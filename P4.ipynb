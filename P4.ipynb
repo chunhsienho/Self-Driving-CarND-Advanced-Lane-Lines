{
 "cells": [
  {
   "cell_type": "code",
   "execution_count": 10,
   "metadata": {},
   "outputs": [],
   "source": [
    "import numpy as np\n",
    "import cv2\n",
    "import matplotlib.pyplot as plt\n",
    "import matplotlib.image as mpimg\n",
    "import glob\n",
    "import pickle\n",
    "import os.path\n",
    "\n",
    "%matplotlib inline\n",
    "\n",
    "class FineLane():\n",
    "    def __init__(self):\n",
    "        self.width = 1280\n",
    "        self.height = 720\n",
    "        \n",
    "    \"\"\"fine the Laneline from car camera image\"\"\"\n",
    "    def calibrate_camera(self, force=False):\n",
    "        chessboard_images='./camera_cal/*.jpg'\n",
    "    # prepare object points, like (0,0,0), (1,0,0), (2,0,0) ....,(6,5,0)\n",
    "        objp = np.zeros((9*5,3), np.float32)\n",
    "        objp[:,:2] = np.mgrid[0:9,0:5].T.reshape(-1,2)\n",
    "    # Arrays to store object points and image points from all the images.\n",
    "        objpoints = [] # 3d points in real world space\n",
    "        imgpoints = [] # 2d points in image plane.\n",
    "    \n",
    "        images = glob.glob('../camera_cal/calibration*.jpg')\n",
    "    \n",
    "    #Step through the list and search for chessboard corners\n",
    "        for fname in images:\n",
    "            img = cv2.imread(fname)\n",
    "            gray = cv2.cvtColor(img,cv2.COLOR_BGR2GRAY)\n",
    "            ret,corners=cv2.findChessboardCorners(gray, (9, 5), None)\n",
    "            ret, mtx, dist, rvecs, tvecs = cv2.calibrateCamera(\n",
    "                        objpoints, imgpoints, img_size, None, None)\n",
    "    # Save the camera calibration result for later use\n",
    "            self.camera = {\n",
    "                'mtx': mtx,\n",
    "                'dist': dist,\n",
    "            }\n",
    "    # Save camera matrix to avoid recalibrating every time\n",
    "            # run with force=True to force recalibrate\n",
    "            pickle.dump(self.camera, open(dist_mtx_file, 'wb'))\n"
   ]
  },
  {
   "cell_type": "code",
   "execution_count": null,
   "metadata": {
    "collapsed": true
   },
   "outputs": [],
   "source": []
  }
 ],
 "metadata": {
  "kernelspec": {
   "display_name": "Python 3",
   "language": "python",
   "name": "python3"
  },
  "language_info": {
   "codemirror_mode": {
    "name": "ipython",
    "version": 3
   },
   "file_extension": ".py",
   "mimetype": "text/x-python",
   "name": "python",
   "nbconvert_exporter": "python",
   "pygments_lexer": "ipython3",
   "version": "3.5.2"
  },
  "widgets": {
   "state": {},
   "version": "1.1.2"
  }
 },
 "nbformat": 4,
 "nbformat_minor": 2
}
